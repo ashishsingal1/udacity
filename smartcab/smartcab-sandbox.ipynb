{
 "cells": [
  {
   "cell_type": "code",
   "execution_count": 7,
   "metadata": {
    "collapsed": false
   },
   "outputs": [],
   "source": [
    "q_table = {(('green', None, None, None), 'right'): -1}"
   ]
  },
  {
   "cell_type": "code",
   "execution_count": 91,
   "metadata": {
    "collapsed": true
   },
   "outputs": [],
   "source": [
    "waypoints = ['forward', 'right', 'left']\n",
    "lights = ['red', 'green']\n",
    "traffic = ['forward', 'left', 'right', None]\n",
    "actions = [None, 'forward', 'right', 'left']"
   ]
  },
  {
   "cell_type": "code",
   "execution_count": null,
   "metadata": {
    "collapsed": true
   },
   "outputs": [],
   "source": []
  },
  {
   "cell_type": "code",
   "execution_count": 92,
   "metadata": {
    "collapsed": true
   },
   "outputs": [],
   "source": [
    "import itertools"
   ]
  },
  {
   "cell_type": "code",
   "execution_count": 93,
   "metadata": {
    "collapsed": false
   },
   "outputs": [],
   "source": [
    "states = list(itertools.product(waypoints, lights, traffic, traffic, traffic))"
   ]
  },
  {
   "cell_type": "code",
   "execution_count": 94,
   "metadata": {
    "collapsed": false
   },
   "outputs": [],
   "source": [
    "for i in states:\n",
    "    q_table.update({(i, action): 0 for action in actions})"
   ]
  },
  {
   "cell_type": "code",
   "execution_count": 95,
   "metadata": {
    "collapsed": false
   },
   "outputs": [
    {
     "data": {
      "text/plain": [
       "1537"
      ]
     },
     "execution_count": 95,
     "metadata": {},
     "output_type": "execute_result"
    }
   ],
   "source": [
    "len(q_table)"
   ]
  },
  {
   "cell_type": "code",
   "execution_count": 96,
   "metadata": {
    "collapsed": false
   },
   "outputs": [
    {
     "data": {
      "text/plain": [
       "384"
      ]
     },
     "execution_count": 96,
     "metadata": {},
     "output_type": "execute_result"
    }
   ],
   "source": [
    "len(states)"
   ]
  },
  {
   "cell_type": "code",
   "execution_count": 75,
   "metadata": {
    "collapsed": true
   },
   "outputs": [],
   "source": [
    "def get_action(qt, state, epsilon = .2, actions = [None, 'forward', 'right', 'left']):\n",
    "    if (random.random() < .2): return random.choice(actions) # random action\n",
    "    else: # select max by greedy, random if tie\n",
    "        np_array = np.array([qt[(state, action)] for action in actions]) # get q_values for this state\n",
    "        idx = random.choice(list(np.where(np_array == np_array.max())[0])) # choose random action \n",
    "        return actions[idx]"
   ]
  },
  {
   "cell_type": "code",
   "execution_count": 88,
   "metadata": {
    "collapsed": true
   },
   "outputs": [],
   "source": [
    "q_table[(('left', 'red', 'forward', None, None), 'right')] = 1"
   ]
  },
  {
   "cell_type": "code",
   "execution_count": 90,
   "metadata": {
    "collapsed": false
   },
   "outputs": [
    {
     "name": "stdout",
     "output_type": "stream",
     "text": [
      "right\n",
      "right\n",
      "right\n",
      "right\n",
      "right\n",
      "right\n",
      "right\n",
      "right\n",
      "right\n",
      "right\n",
      "None\n",
      "None\n",
      "right\n",
      "forward\n",
      "left\n",
      "right\n",
      "right\n",
      "None\n",
      "right\n"
     ]
    }
   ],
   "source": [
    "for i in range(1, 20):\n",
    "    print(get_action(q_table, ('left', 'red', 'forward', None, None)))"
   ]
  },
  {
   "cell_type": "code",
   "execution_count": null,
   "metadata": {
    "collapsed": true
   },
   "outputs": [],
   "source": [
    "def get_max_action(qt, state, actions = [None, 'forward', 'right', 'left']):\n",
    "    return max([qt[(state, action)] for action in actions])"
   ]
  },
  {
   "cell_type": "code",
   "execution_count": 40,
   "metadata": {
    "collapsed": false
   },
   "outputs": [],
   "source": [
    "def get_max(qt, state, actions = [None, 'forward', 'right', 'left']):\n",
    "    return max([qt[(state, action)] for action in actions])"
   ]
  },
  {
   "cell_type": "code",
   "execution_count": 41,
   "metadata": {
    "collapsed": false
   },
   "outputs": [
    {
     "data": {
      "text/plain": [
       "0"
      ]
     },
     "execution_count": 41,
     "metadata": {},
     "output_type": "execute_result"
    }
   ],
   "source": [
    "get_max(q_table, ('forward', 'green', 'left', 'forward', None))"
   ]
  },
  {
   "cell_type": "code",
   "execution_count": 38,
   "metadata": {
    "collapsed": false
   },
   "outputs": [
    {
     "data": {
      "text/plain": [
       "{(('forward', 'green', 'left', 'forward', None), 'left'): 0,\n",
       " (('left', 'red', 'forward', None, None), None): 0,\n",
       " (('left', 'green', None, None, 'forward'), None): 0,\n",
       " (('forward', 'red', 'forward', 'forward', None), 'left'): 0,\n",
       " (('forward', 'green', 'left', 'forward', 'left'), 'right'): 0,\n",
       " (('right', 'green', 'left', None, 'forward'), None): 0,\n",
       " (('right', 'red', 'forward', 'left', 'left'), 'left'): 0,\n",
       " (('left', 'green', 'left', 'left', 'left'), 'left'): 0,\n",
       " (('right', 'green', None, 'left', None), None): 0,\n",
       " (('left', 'green', None, None, 'forward'), 'left'): 0,\n",
       " (('left', 'green', None, None, 'forward'), 'right'): 0,\n",
       " (('forward', 'green', 'forward', None, 'forward'), None): 0,\n",
       " (('forward', 'green', 'forward', 'left', 'left'), 'left'): 0,\n",
       " (('forward', 'green', None, None, 'left'), None): 0,\n",
       " (('left', 'green', 'forward', None, None), None): 0,\n",
       " (('right', 'green', None, 'left', None), 'left'): 0,\n",
       " (('forward', 'red', 'forward', 'left', None), 'forward'): 0,\n",
       " (('forward', 'green', None, None, 'left'), 'left'): 0,\n",
       " (('forward', 'red', 'left', None, 'left'), None): 0,\n",
       " (('forward', 'red', 'forward', 'forward', 'forward'), None): 0,\n",
       " (('forward', 'red', None, None, None), 'left'): 0,\n",
       " (('forward', 'red', None, None, 'forward'), 'right'): 0,\n",
       " (('left', 'red', 'left', None, 'forward'), 'left'): 0,\n",
       " (('forward', 'red', 'forward', 'forward', 'left'), 'forward'): 0,\n",
       " (('right', 'green', 'forward', None, None), None): 0,\n",
       " (('right', 'green', 'forward', None, 'left'), 'right'): 0,\n",
       " (('right', 'green', None, 'forward', 'forward'), 'left'): 0,\n",
       " (('forward', 'red', 'left', None, None), 'right'): 0,\n",
       " (('forward', 'red', 'forward', 'left', 'left'), 'forward'): 0,\n",
       " (('right', 'green', 'left', 'left', None), None): 0,\n",
       " (('left', 'red', 'left', None, 'left'), 'left'): 0,\n",
       " (('forward', 'red', 'left', 'left', 'left'), 'left'): 0,\n",
       " (('right', 'green', None, 'left', 'forward'), None): 0,\n",
       " (('right', 'green', 'forward', 'left', 'left'), 'right'): 0,\n",
       " (('left', 'red', 'forward', 'left', 'left'), 'right'): 0,\n",
       " (('right', 'green', 'left', None, 'left'), 'forward'): 0,\n",
       " (('right', 'red', None, 'left', 'forward'), 'forward'): 0,\n",
       " (('right', 'red', 'left', 'forward', None), 'right'): 0,\n",
       " (('left', 'red', None, None, 'forward'), 'right'): 0,\n",
       " (('forward', 'green', 'left', None, 'left'), 'right'): 0,\n",
       " (('right', 'red', 'left', None, None), 'left'): 0,\n",
       " (('right', 'red', None, None, 'forward'), None): 0,\n",
       " (('forward', 'green', 'forward', 'left', 'left'), None): 0,\n",
       " (('right', 'red', 'forward', None, 'forward'), 'left'): 0,\n",
       " (('right', 'green', 'forward', 'left', 'forward'), None): 0,\n",
       " (('left', 'red', None, None, 'forward'), None): 0,\n",
       " (('right', 'red', None, 'forward', None), 'right'): 0,\n",
       " (('right', 'red', 'forward', 'left', None), 'left'): 0,\n",
       " (('right', 'green', 'left', None, 'left'), 'right'): 0,\n",
       " (('right', 'red', 'left', 'left', 'forward'), 'forward'): 0,\n",
       " (('right', 'green', None, None, None), 'right'): 0,\n",
       " (('left', 'red', 'forward', 'left', 'forward'), 'left'): 0,\n",
       " (('forward', 'red', None, 'left', 'left'), 'left'): 0,\n",
       " (('forward', 'green', 'left', 'left', 'forward'), 'right'): 0,\n",
       " (('right', 'red', None, 'left', 'left'), 'right'): 0,\n",
       " (('forward', 'green', 'forward', 'forward', None), 'forward'): 0,\n",
       " (('forward', 'red', None, 'forward', None), 'right'): 0,\n",
       " (('forward', 'green', 'left', 'forward', None), None): 0,\n",
       " (('left', 'green', 'forward', 'left', 'forward'), 'right'): 0,\n",
       " (('forward', 'red', 'forward', 'left', 'left'), 'left'): 0,\n",
       " (('forward', 'red', 'left', 'left', None), None): 0,\n",
       " (('forward', 'green', 'forward', 'forward', None), None): 0,\n",
       " (('left', 'green', None, 'forward', None), 'forward'): 0,\n",
       " (('right', 'green', None, 'forward', None), 'left'): 0,\n",
       " (('left', 'red', 'left', None, 'forward'), 'right'): 0,\n",
       " (('forward', 'red', None, 'forward', None), None): 0,\n",
       " (('left', 'green', 'left', 'forward', 'forward'), 'left'): 0,\n",
       " (('forward', 'red', None, 'left', 'forward'), 'right'): 0,\n",
       " (('left', 'red', None, 'left', 'left'), None): 0,\n",
       " (('right', 'red', None, 'forward', None), None): 0,\n",
       " (('forward', 'red', 'forward', None, None), 'left'): 0,\n",
       " (('left', 'red', 'forward', 'forward', 'left'), 'right'): 0,\n",
       " (('left', 'green', 'left', 'left', 'forward'), None): 0,\n",
       " (('forward', 'red', 'left', 'forward', None), None): 0,\n",
       " (('right', 'red', 'left', 'forward', None), None): 0,\n",
       " (('right', 'green', 'forward', 'forward', 'forward'), 'forward'): 0,\n",
       " (('forward', 'red', None, 'left', 'left'), 'forward'): 0,\n",
       " (('forward', 'green', None, 'left', None), 'forward'): 0,\n",
       " (('right', 'green', None, 'forward', 'forward'), 'forward'): 0,\n",
       " (('right', 'red', 'forward', 'left', None), 'forward'): 0,\n",
       " (('forward', 'green', 'left', None, None), None): 0,\n",
       " (('right', 'red', 'left', None, 'forward'), 'left'): 0,\n",
       " (('left', 'green', None, 'forward', 'forward'), 'left'): 0,\n",
       " (('forward', 'red', 'forward', None, 'left'), 'right'): 0,\n",
       " (('left', 'red', None, None, None), 'right'): 0,\n",
       " (('right', 'red', None, 'left', None), 'forward'): 0,\n",
       " (('left', 'green', None, 'left', 'left'), 'forward'): 0,\n",
       " (('forward', 'red', None, None, 'left'), None): 0,\n",
       " (('right', 'red', 'forward', 'left', 'left'), 'right'): 0,\n",
       " (('forward', 'red', None, 'forward', None), 'left'): 0,\n",
       " (('left', 'green', 'forward', 'left', 'forward'), None): 0,\n",
       " (('left', 'red', None, 'left', None), 'forward'): 0,\n",
       " (('forward', 'red', None, None, None), 'right'): 0,\n",
       " (('forward', 'green', None, None, None), 'left'): 0,\n",
       " (('left', 'green', None, None, 'left'), 'forward'): 0,\n",
       " (('right', 'green', 'forward', 'forward', None), 'right'): 0,\n",
       " (('left', 'green', 'left', 'forward', 'forward'), 'forward'): 0,\n",
       " (('left', 'red', None, None, 'forward'), 'forward'): 0,\n",
       " (('forward', 'red', None, None, 'forward'), 'forward'): 0,\n",
       " (('left', 'red', 'forward', 'left', 'forward'), None): 0,\n",
       " (('right', 'green', 'left', 'left', 'left'), None): 0,\n",
       " (('left', 'red', None, 'forward', None), 'right'): 0,\n",
       " (('right', 'red', 'forward', 'left', 'forward'), 'left'): 0,\n",
       " (('right', 'red', 'left', 'left', None), 'right'): 0,\n",
       " (('right', 'green', None, 'left', 'left'), 'forward'): 0,\n",
       " (('right', 'red', 'left', 'forward', 'left'), 'forward'): 0,\n",
       " (('forward', 'green', 'forward', 'forward', 'left'), None): 0,\n",
       " (('forward', 'red', 'left', 'left', None), 'forward'): 0,\n",
       " (('left', 'green', 'left', 'left', 'forward'), 'left'): 0,\n",
       " (('left', 'red', 'left', None, 'left'), 'right'): 0,\n",
       " (('right', 'green', 'left', 'left', 'left'), 'right'): 0,\n",
       " (('forward', 'green', 'forward', 'forward', 'forward'), None): 0,\n",
       " (('forward', 'green', None, 'forward', None), 'forward'): 0,\n",
       " (('forward', 'red', 'forward', None, None), None): 0,\n",
       " (('forward', 'green', 'left', 'forward', None), 'forward'): 0,\n",
       " (('left', 'green', 'forward', 'left', 'left'), 'right'): 0,\n",
       " (('forward', 'green', None, 'forward', 'left'), None): 0,\n",
       " (('left', 'red', None, 'forward', None), None): 0,\n",
       " (('right', 'green', 'forward', 'forward', 'forward'), None): 0,\n",
       " (('right', 'green', 'left', 'left', 'forward'), None): 0,\n",
       " (('forward', 'red', None, 'left', None), None): 0,\n",
       " (('forward', 'red', 'forward', None, 'forward'), 'right'): 0,\n",
       " (('left', 'green', None, None, 'left'), None): 0,\n",
       " (('left', 'red', 'left', 'forward', None), 'left'): 0,\n",
       " (('left', 'red', 'forward', None, 'left'), 'forward'): 0,\n",
       " (('right', 'green', 'left', 'left', 'left'), 'forward'): 0,\n",
       " (('right', 'green', None, 'left', 'forward'), 'left'): 0,\n",
       " (('left', 'green', 'forward', None, None), 'right'): 0,\n",
       " (('right', 'green', None, 'forward', 'left'), 'left'): 0,\n",
       " (('right', 'red', None, 'forward', 'forward'), 'forward'): 0,\n",
       " (('right', 'green', None, None, 'forward'), 'right'): 0,\n",
       " (('forward', 'red', 'forward', None, None), 'forward'): 0,\n",
       " (('left', 'red', 'forward', 'left', None), 'forward'): 0,\n",
       " (('forward', 'red', 'left', 'forward', None), 'left'): 0,\n",
       " (('forward', 'red', 'left', 'left', 'left'), 'right'): 0,\n",
       " (('forward', 'red', 'left', 'forward', 'forward'), 'left'): 0,\n",
       " (('forward', 'green', 'left', None, 'left'), None): 0,\n",
       " (('right', 'red', None, None, 'forward'), 'right'): 0,\n",
       " (('right', 'green', 'forward', 'forward', 'left'), 'left'): 0,\n",
       " (('left', 'green', 'left', 'left', 'forward'), 'forward'): 0,\n",
       " (('left', 'green', 'left', None, None), None): 0,\n",
       " (('right', 'red', 'left', None, 'left'), 'forward'): 0,\n",
       " (('right', 'green', None, None, 'left'), 'forward'): 0,\n",
       " (('forward', 'green', 'left', None, 'left'), 'left'): 0,\n",
       " (('forward', 'red', 'forward', 'left', 'forward'), 'right'): 0,\n",
       " (('left', 'green', 'forward', 'forward', None), 'left'): 0,\n",
       " (('left', 'green', 'forward', None, 'forward'), None): 0,\n",
       " (('right', 'green', None, 'forward', None), 'right'): 0,\n",
       " (('forward', 'green', 'left', None, 'forward'), None): 0,\n",
       " (('right', 'red', 'left', None, 'left'), None): 0,\n",
       " (('right', 'green', 'left', 'forward', 'left'), 'left'): 0,\n",
       " (('right', 'red', 'left', None, 'forward'), 'right'): 0,\n",
       " (('forward', 'green', 'forward', 'left', 'forward'), 'left'): 0,\n",
       " (('forward', 'green', 'forward', None, None), 'left'): 0,\n",
       " (('left', 'green', None, 'forward', 'left'), 'left'): 0,\n",
       " (('right', 'green', 'forward', 'left', None), 'right'): 0,\n",
       " (('forward', 'red', None, 'forward', 'forward'), None): 0,\n",
       " (('left', 'red', 'left', None, 'left'), 'forward'): 0,\n",
       " (('left', 'red', 'forward', None, 'forward'), None): 0,\n",
       " (('left', 'red', 'left', None, 'forward'), None): 0,\n",
       " (('forward', 'green', 'forward', None, 'left'), 'forward'): 0,\n",
       " (('left', 'red', None, 'left', 'left'), 'left'): 0,\n",
       " (('forward', 'red', 'forward', None, 'left'), 'left'): 0,\n",
       " (('forward', 'red', None, 'forward', 'forward'), 'right'): 0,\n",
       " (('right', 'green', None, None, None), None): 0,\n",
       " (('forward', 'green', 'left', 'left', 'left'), 'right'): 0,\n",
       " (('right', 'green', None, 'forward', 'left'), None): 0,\n",
       " (('left', 'red', None, 'forward', 'forward'), 'forward'): 0,\n",
       " (('right', 'red', 'left', 'left', None), 'forward'): 0,\n",
       " (('right', 'green', 'left', None, 'forward'), 'left'): 0,\n",
       " (('forward', 'red', 'left', 'forward', None), 'right'): 0,\n",
       " (('right', 'red', 'forward', 'forward', None), None): 0,\n",
       " (('right', 'green', 'left', None, None), 'forward'): 0,\n",
       " (('left', 'green', 'left', 'left', 'left'), 'forward'): 0,\n",
       " (('forward', 'green', 'left', 'left', 'forward'), 'forward'): 0,\n",
       " (('forward', 'red', None, 'left', None), 'forward'): 0,\n",
       " (('left', 'red', None, None, None), None): 0,\n",
       " (('left', 'red', 'left', 'forward', None), None): 0,\n",
       " (('left', 'red', 'forward', 'left', 'forward'), 'forward'): 0,\n",
       " (('left', 'red', 'forward', 'forward', None), 'left'): 0,\n",
       " (('forward', 'green', None, 'left', 'forward'), 'left'): 0,\n",
       " (('right', 'green', None, 'left', None), 'right'): 0,\n",
       " (('left', 'red', 'left', 'left', 'left'), 'left'): 0,\n",
       " (('right', 'green', 'forward', 'forward', 'left'), 'right'): 0,\n",
       " (('left', 'green', 'left', None, None), 'forward'): 0,\n",
       " (('right', 'red', 'left', 'forward', 'forward'), 'left'): 0,\n",
       " (('forward', 'green', 'left', 'forward', None), 'right'): 0,\n",
       " (('forward', 'red', 'left', None, 'forward'), 'left'): 0,\n",
       " (('forward', 'green', 'forward', None, 'forward'), 'right'): 0,\n",
       " (('left', 'green', 'left', 'left', None), 'forward'): 0,\n",
       " (('right', 'green', 'left', 'forward', 'forward'), 'right'): 0,\n",
       " (('left', 'green', 'forward', None, 'forward'), 'left'): 0,\n",
       " (('left', 'red', None, 'forward', 'forward'), 'left'): 0,\n",
       " (('left', 'green', 'left', None, 'forward'), 'right'): 0,\n",
       " (('right', 'green', None, 'left', 'left'), 'left'): 0,\n",
       " (('left', 'green', None, 'forward', 'forward'), 'forward'): 0,\n",
       " (('right', 'red', None, 'forward', 'forward'), 'right'): 0,\n",
       " (('right', 'green', 'forward', 'left', None), None): 0,\n",
       " (('left', 'red', None, None, 'left'), 'forward'): 0,\n",
       " (('left', 'red', None, 'left', None), 'right'): 0,\n",
       " (('left', 'red', None, 'forward', None), 'forward'): 0,\n",
       " (('left', 'red', 'forward', 'forward', 'forward'), 'left'): 0,\n",
       " (('right', 'green', 'forward', None, 'forward'), None): 0,\n",
       " (('forward', 'red', None, 'left', 'left'), None): 0,\n",
       " (('forward', 'green', 'forward', None, 'forward'), 'forward'): 0,\n",
       " (('left', 'green', None, None, None), None): 0,\n",
       " (('forward', 'red', None, 'left', 'left'), 'right'): 0,\n",
       " (('left', 'red', 'left', 'forward', 'forward'), 'right'): 0,\n",
       " (('right', 'red', 'forward', None, 'left'), 'left'): 0,\n",
       " (('right', 'green', 'forward', None, 'left'), 'forward'): 0,\n",
       " (('right', 'red', 'left', None, None), None): 0,\n",
       " (('left', 'red', 'left', 'left', 'forward'), 'right'): 0,\n",
       " (('right', 'green', 'forward', 'left', 'left'), None): 0,\n",
       " (('forward', 'red', None, None, 'forward'), 'left'): 0,\n",
       " (('right', 'green', 'left', 'forward', 'forward'), 'left'): 0,\n",
       " (('left', 'red', 'forward', 'left', None), 'left'): 0,\n",
       " (('left', 'green', 'forward', 'forward', 'forward'), 'right'): 0,\n",
       " (('left', 'red', None, 'forward', 'forward'), 'right'): 0,\n",
       " (('forward', 'red', 'left', 'left', 'left'), 'forward'): 0,\n",
       " (('left', 'red', 'forward', 'forward', None), 'forward'): 0,\n",
       " (('right', 'green', None, None, None), 'left'): 0,\n",
       " (('forward', 'red', 'left', None, None), 'left'): 0,\n",
       " (('left', 'red', None, 'left', 'forward'), 'forward'): 0,\n",
       " (('right', 'green', 'forward', 'left', 'forward'), 'right'): 0,\n",
       " (('left', 'red', 'forward', 'left', 'left'), 'left'): 0,\n",
       " (('left', 'green', 'left', None, None), 'right'): 0,\n",
       " (('forward', 'green', None, 'left', 'left'), 'right'): 0,\n",
       " (('right', 'red', None, 'left', 'forward'), None): 0,\n",
       " (('forward', 'green', 'forward', 'forward', None), 'left'): 0,\n",
       " (('left', 'red', 'forward', 'forward', 'forward'), 'forward'): 0,\n",
       " (('forward', 'green', None, 'left', None), 'right'): 0,\n",
       " (('left', 'green', 'left', 'forward', 'left'), 'left'): 0,\n",
       " (('left', 'green', 'left', 'forward', None), 'right'): 0,\n",
       " (('left', 'green', 'left', 'left', 'left'), None): 0,\n",
       " (('right', 'green', 'left', 'left', 'forward'), 'right'): 0,\n",
       " (('right', 'red', 'forward', 'forward', 'forward'), None): 0,\n",
       " (('right', 'green', 'forward', None, 'left'), None): 0,\n",
       " (('forward', 'green', None, 'left', 'left'), None): 0,\n",
       " (('forward', 'green', None, 'left', 'left'), 'left'): 0,\n",
       " (('right', 'red', None, 'forward', 'forward'), 'left'): 0,\n",
       " (('forward', 'red', 'forward', None, 'forward'), None): 0,\n",
       " (('left', 'green', None, 'forward', None), 'left'): 0,\n",
       " (('left', 'green', None, 'forward', 'forward'), 'right'): 0,\n",
       " (('right', 'red', 'left', 'left', None), None): 0,\n",
       " (('left', 'red', 'forward', 'forward', None), 'right'): 0,\n",
       " (('forward', 'red', 'left', None, 'forward'), None): 0,\n",
       " (('left', 'red', 'left', None, None), 'right'): 0,\n",
       " (('forward', 'red', 'forward', 'left', 'left'), 'right'): 0,\n",
       " (('right', 'green', 'left', None, 'left'), 'left'): 0,\n",
       " (('right', 'green', 'left', 'left', None), 'right'): 0,\n",
       " (('left', 'green', 'forward', 'forward', None), None): 0,\n",
       " (('right', 'red', 'forward', 'forward', 'forward'), 'right'): 0,\n",
       " (('forward', 'red', 'left', 'left', 'forward'), 'right'): 0,\n",
       " (('right', 'red', None, 'left', 'left'), 'left'): 0,\n",
       " (('left', 'green', 'left', 'forward', None), 'left'): 0,\n",
       " (('right', 'green', 'forward', None, None), 'forward'): 0,\n",
       " (('forward', 'green', 'left', 'forward', 'forward'), None): 0,\n",
       " (('forward', 'red', 'forward', 'forward', 'left'), 'left'): 0,\n",
       " (('right', 'red', None, None, 'left'), None): 0,\n",
       " (('right', 'green', 'left', 'left', None), 'left'): 0,\n",
       " (('left', 'red', None, 'forward', 'left'), 'right'): 0,\n",
       " (('forward', 'red', 'forward', 'forward', None), 'forward'): 0,\n",
       " (('right', 'green', 'left', None, 'forward'), 'right'): 0,\n",
       " (('right', 'red', 'forward', None, None), 'right'): 0,\n",
       " (('left', 'green', 'left', 'left', 'left'), 'right'): 0,\n",
       " (('forward', 'red', None, 'forward', 'left'), None): 0,\n",
       " (('right', 'red', 'forward', 'forward', 'left'), 'left'): 0,\n",
       " (('forward', 'green', 'left', None, 'forward'), 'right'): 0,\n",
       " (('right', 'red', 'left', 'left', 'forward'), 'left'): 0,\n",
       " (('forward', 'green', 'forward', 'forward', None), 'right'): 0,\n",
       " (('right', 'green', None, None, 'left'), 'right'): 0,\n",
       " (('left', 'red', None, 'forward', 'left'), None): 0,\n",
       " (('right', 'green', None, None, 'left'), None): 0,\n",
       " (('right', 'green', None, 'left', 'left'), 'right'): 0,\n",
       " (('right', 'red', None, 'forward', 'left'), 'left'): 0,\n",
       " (('right', 'red', None, 'left', 'left'), 'forward'): 0,\n",
       " (('left', 'red', 'left', 'left', None), None): 0,\n",
       " (('right', 'green', None, 'left', 'forward'), 'right'): 0,\n",
       " (('forward', 'green', None, 'forward', None), 'right'): 0,\n",
       " (('right', 'red', None, None, 'forward'), 'forward'): 0,\n",
       " (('right', 'green', 'left', 'left', 'forward'), 'left'): 0,\n",
       " (('right', 'red', 'forward', 'left', 'forward'), None): 0,\n",
       " (('right', 'red', None, 'left', None), 'right'): 0,\n",
       " (('left', 'green', 'forward', 'left', 'left'), 'forward'): 0,\n",
       " (('forward', 'green', None, None, 'left'), 'right'): 0,\n",
       " (('left', 'red', 'forward', 'forward', 'left'), None): 0,\n",
       " (('right', 'red', 'forward', 'forward', 'left'), None): 0,\n",
       " (('left', 'green', 'forward', None, 'left'), None): 0,\n",
       " (('forward', 'red', 'forward', 'left', 'left'), None): 0,\n",
       " (('forward', 'red', 'forward', 'forward', 'left'), None): 0,\n",
       " (('left', 'red', 'left', None, None), None): 0,\n",
       " (('left', 'red', 'forward', 'forward', 'left'), 'forward'): 0,\n",
       " (('forward', 'red', 'forward', 'left', 'forward'), 'forward'): 0,\n",
       " (('forward', 'green', 'forward', 'forward', 'forward'), 'left'): 0,\n",
       " (('left', 'red', 'left', 'forward', None), 'right'): 0,\n",
       " (('left', 'red', None, 'left', 'left'), 'forward'): 0,\n",
       " (('forward', 'green', 'left', 'forward', 'forward'), 'right'): 0,\n",
       " (('left', 'green', None, None, None), 'left'): 0,\n",
       " (('right', 'red', 'left', 'left', 'left'), 'right'): 0,\n",
       " (('right', 'green', None, None, 'forward'), None): 0,\n",
       " (('forward', 'green', None, None, 'forward'), 'right'): 0,\n",
       " (('forward', 'green', 'left', 'left', 'left'), 'left'): 0,\n",
       " (('left', 'green', None, 'left', 'forward'), None): 0,\n",
       " (('right', 'red', 'left', 'left', None), 'left'): 0,\n",
       " (('right', 'green', 'forward', 'forward', 'left'), None): 0,\n",
       " (('forward', 'red', 'forward', 'left', None), 'left'): 0,\n",
       " (('forward', 'red', None, None, 'left'), 'right'): 0,\n",
       " (('right', 'green', 'left', None, None), 'left'): 0,\n",
       " (('right', 'red', 'left', 'forward', 'left'), None): 0,\n",
       " (('forward', 'green', 'left', 'left', None), 'forward'): 0,\n",
       " (('forward', 'green', 'forward', None, 'left'), 'right'): 0,\n",
       " (('right', 'red', None, 'forward', 'left'), None): 0,\n",
       " (('forward', 'green', 'forward', 'forward', 'left'), 'forward'): 0,\n",
       " (('forward', 'green', None, 'forward', 'forward'), 'left'): 0,\n",
       " (('forward', 'red', None, 'left', 'forward'), 'forward'): 0,\n",
       " (('left', 'green', 'forward', 'left', None), 'forward'): 0,\n",
       " (('forward', 'green', None, 'left', 'forward'), None): 0,\n",
       " (('forward', 'green', 'left', None, None), 'left'): 0,\n",
       " (('forward', 'red', 'forward', None, 'left'), None): 0,\n",
       " (('left', 'green', None, None, 'left'), 'left'): 0,\n",
       " (('right', 'red', None, None, 'left'), 'forward'): 0,\n",
       " (('forward', 'green', None, 'forward', 'left'), 'left'): 0,\n",
       " (('left', 'red', 'forward', None, 'left'), 'left'): 0,\n",
       " (('left', 'green', 'forward', 'left', None), None): 0,\n",
       " (('right', 'red', None, 'forward', None), 'left'): 0,\n",
       " (('left', 'green', 'forward', 'forward', 'forward'), None): 0,\n",
       " (('left', 'red', 'forward', 'left', 'left'), None): 0,\n",
       " (('forward', 'green', None, 'left', 'forward'), 'right'): 0,\n",
       " (('left', 'green', 'left', None, 'left'), 'forward'): 0,\n",
       " (('forward', 'green', 'forward', 'left', None), 'left'): 0,\n",
       " (('right', 'green', None, None, 'left'), 'left'): 0,\n",
       " (('right', 'red', 'forward', 'forward', 'forward'), 'left'): 0,\n",
       " (('right', 'green', None, 'forward', 'left'), 'forward'): 0,\n",
       " (('forward', 'red', 'left', 'left', None), 'left'): 0,\n",
       " (('forward', 'green', 'forward', 'left', 'left'), 'right'): 0,\n",
       " (('left', 'green', None, 'left', None), None): 0,\n",
       " (('forward', 'green', 'left', 'left', None), 'right'): 0,\n",
       " (('right', 'red', 'left', 'forward', 'left'), 'left'): 0,\n",
       " (('left', 'green', 'forward', 'forward', 'left'), 'left'): 0,\n",
       " (('right', 'green', 'forward', None, None), 'right'): 0,\n",
       " (('forward', 'red', None, 'forward', 'forward'), 'left'): 0,\n",
       " (('forward', 'green', None, 'forward', 'forward'), None): 0,\n",
       " (('forward', 'green', 'left', 'forward', 'left'), 'left'): 0,\n",
       " (('left', 'green', None, 'forward', None), None): 0,\n",
       " (('forward', 'red', None, None, None), None): 0,\n",
       " (('right', 'green', None, 'left', 'forward'), 'forward'): 0,\n",
       " (('forward', 'red', 'left', 'forward', None), 'forward'): 0,\n",
       " (('forward', 'green', 'forward', 'forward', 'left'), 'left'): 0,\n",
       " (('left', 'red', 'forward', None, None), 'right'): 0,\n",
       " (('forward', 'green', None, None, None), None): 0,\n",
       " (('forward', 'red', None, 'left', None), 'right'): 0,\n",
       " (('left', 'red', None, 'left', 'forward'), 'left'): 0,\n",
       " (('left', 'green', None, None, None), 'forward'): 0,\n",
       " (('right', 'green', 'forward', None, 'left'), 'left'): 0,\n",
       " (('left', 'green', 'forward', 'left', None), 'left'): 0,\n",
       " (('left', 'red', None, 'forward', 'left'), 'forward'): 0,\n",
       " (('forward', 'red', None, 'forward', 'left'), 'forward'): 0,\n",
       " (('left', 'green', 'left', None, 'left'), 'left'): 0,\n",
       " (('right', 'green', None, None, None), 'forward'): 0,\n",
       " (('forward', 'red', 'left', 'forward', 'left'), 'forward'): 0,\n",
       " (('right', 'green', 'forward', 'forward', None), None): 0,\n",
       " (('right', 'green', None, 'forward', None), None): 0,\n",
       " (('right', 'green', 'left', 'forward', None), 'forward'): 0,\n",
       " (('right', 'green', 'left', 'forward', 'left'), 'right'): 0,\n",
       " (('left', 'red', 'left', 'forward', 'left'), 'right'): 0,\n",
       " (('right', 'red', 'left', None, 'forward'), 'forward'): 0,\n",
       " (('right', 'red', 'forward', 'left', None), 'right'): 0,\n",
       " (('left', 'green', 'forward', 'forward', None), 'right'): 0,\n",
       " (('left', 'red', None, 'left', 'forward'), 'right'): 0,\n",
       " (('right', 'red', None, 'left', None), 'left'): 0,\n",
       " (('right', 'red', 'left', 'left', 'forward'), None): 0,\n",
       " (('forward', 'green', 'left', 'forward', 'left'), None): 0,\n",
       " (('right', 'green', 'left', 'forward', 'forward'), None): 0,\n",
       " (('left', 'red', None, 'forward', 'forward'), None): 0,\n",
       " (('left', 'red', 'forward', None, None), 'forward'): 0,\n",
       " (('right', 'red', 'left', 'forward', None), 'left'): 0,\n",
       " (('left', 'green', 'left', None, 'forward'), None): 0,\n",
       " (('right', 'red', 'forward', 'forward', 'forward'), 'forward'): 0,\n",
       " (('left', 'green', None, 'left', None), 'right'): 0,\n",
       " (('forward', 'green', 'left', 'left', 'forward'), None): 0,\n",
       " (('left', 'red', 'forward', 'forward', None), None): 0,\n",
       " (('forward', 'red', 'left', None, 'left'), 'left'): 0,\n",
       " (('forward', 'green', 'forward', 'forward', 'forward'), 'right'): 0,\n",
       " (('right', 'red', 'left', None, 'left'), 'right'): 0,\n",
       " (('forward', 'green', None, None, None), 'forward'): 0,\n",
       " (('forward', 'red', 'left', None, 'forward'), 'forward'): 0,\n",
       " (('right', 'red', 'forward', None, None), 'left'): 0,\n",
       " (('forward', 'green', 'forward', 'left', None), None): 0,\n",
       " (('left', 'green', 'forward', 'forward', 'left'), 'right'): 0,\n",
       " (('left', 'green', 'left', 'forward', 'forward'), 'right'): 0,\n",
       " (('forward', 'red', 'left', 'forward', 'left'), 'left'): 0,\n",
       " (('forward', 'red', 'forward', 'forward', None), None): 0,\n",
       " (('forward', 'green', 'left', 'left', None), None): 0,\n",
       " (('right', 'red', None, None, 'left'), 'right'): 0,\n",
       " (('forward', 'red', None, 'forward', None), 'forward'): 0,\n",
       " (('left', 'red', 'left', 'forward', 'forward'), 'left'): 0,\n",
       " (('left', 'green', 'forward', 'left', 'forward'), 'left'): 0,\n",
       " (('forward', 'red', 'left', None, 'forward'), 'right'): 0,\n",
       " (('left', 'red', None, 'left', None), 'left'): 0,\n",
       " (('left', 'red', 'left', 'left', 'left'), 'right'): 0,\n",
       " (('forward', 'red', 'forward', 'left', None), None): 0,\n",
       " (('left', 'green', None, None, 'forward'), 'forward'): 0,\n",
       " (('right', 'red', 'forward', 'left', None), None): 0,\n",
       " (('right', 'green', 'left', 'forward', 'left'), 'forward'): 0,\n",
       " (('right', 'green', 'left', 'left', 'forward'), 'forward'): 0,\n",
       " (('forward', 'red', 'left', None, 'left'), 'forward'): 0,\n",
       " (('right', 'red', None, 'forward', 'left'), 'right'): 0,\n",
       " (('right', 'green', 'left', 'forward', None), 'left'): 0,\n",
       " (('left', 'red', None, None, 'left'), None): 0,\n",
       " (('right', 'green', 'forward', None, 'forward'), 'forward'): 0,\n",
       " (('right', 'red', 'left', 'forward', None), 'forward'): 0,\n",
       " (('left', 'green', 'left', None, 'forward'), 'left'): 0,\n",
       " (('right', 'red', None, 'left', 'forward'), 'left'): 0,\n",
       " (('left', 'green', 'forward', 'forward', 'forward'), 'left'): 0,\n",
       " (('left', 'red', 'left', 'forward', 'left'), 'forward'): 0,\n",
       " (('left', 'green', 'forward', 'left', None), 'right'): 0,\n",
       " (('right', 'red', 'left', None, None), 'forward'): 0,\n",
       " (('right', 'red', 'left', 'forward', 'left'), 'right'): 0,\n",
       " (('forward', 'red', 'left', 'left', 'forward'), None): 0,\n",
       " (('left', 'red', None, None, 'left'), 'right'): 0,\n",
       " (('left', 'green', 'left', 'forward', 'forward'), None): 0,\n",
       " (('right', 'red', 'forward', None, 'left'), 'right'): 0,\n",
       " (('forward', 'red', 'left', 'left', None), 'right'): 0,\n",
       " (('left', 'green', 'forward', None, 'left'), 'forward'): 0,\n",
       " (('left', 'red', 'forward', 'forward', 'forward'), None): 0,\n",
       " (('right', 'green', 'forward', 'left', 'forward'), 'forward'): 0,\n",
       " (('left', 'green', 'forward', 'left', 'forward'), 'forward'): 0,\n",
       " (('left', 'green', 'left', 'forward', 'left'), None): 0,\n",
       " (('forward', 'red', 'left', 'left', 'forward'), 'forward'): 0,\n",
       " (('right', 'red', None, None, 'left'), 'left'): 0,\n",
       " (('forward', 'green', 'left', 'forward', 'left'), 'forward'): 0,\n",
       " (('right', 'red', 'forward', 'forward', None), 'forward'): 0,\n",
       " (('right', 'red', None, 'forward', 'left'), 'forward'): 0,\n",
       " (('forward', 'red', 'forward', None, None), 'right'): 0,\n",
       " (('right', 'red', None, None, None), 'right'): 0,\n",
       " (('right', 'red', 'forward', 'left', 'left'), 'forward'): 0,\n",
       " (('left', 'green', 'left', None, 'left'), 'right'): 0,\n",
       " (('left', 'red', None, 'left', None), None): 0,\n",
       " (('forward', 'green', 'left', 'left', 'left'), None): 0,\n",
       " (('forward', 'red', None, None, None), 'forward'): 0,\n",
       " (('left', 'red', None, 'left', 'left'), 'right'): 0,\n",
       " (('right', 'green', 'forward', None, 'forward'), 'left'): 0,\n",
       " (('left', 'red', 'left', 'left', 'left'), 'forward'): 0,\n",
       " (('forward', 'green', None, None, 'forward'), None): 0,\n",
       " (('forward', 'green', 'forward', None, None), 'forward'): 0,\n",
       " (('forward', 'green', 'forward', 'left', None), 'forward'): 0,\n",
       " (('left', 'green', 'forward', 'forward', 'forward'), 'forward'): 0,\n",
       " (('left', 'green', 'left', 'forward', 'left'), 'right'): 0,\n",
       " (('right', 'green', None, 'left', None), 'forward'): 0,\n",
       " (('forward', 'red', 'left', 'forward', 'forward'), 'forward'): 0,\n",
       " (('right', 'green', None, None, 'forward'), 'forward'): 0,\n",
       " (('left', 'green', None, 'left', 'forward'), 'forward'): 0,\n",
       " (('forward', 'green', 'left', 'left', 'forward'), 'left'): 0,\n",
       " (('green', None, None, None), 'right'): -1,\n",
       " (('forward', 'red', 'left', None, None), None): 0,\n",
       " (('left', 'green', 'left', None, 'forward'), 'forward'): 0,\n",
       " (('right', 'green', 'left', None, 'forward'), 'forward'): 0,\n",
       " (('left', 'green', None, 'forward', 'forward'), None): 0,\n",
       " (('left', 'green', 'forward', None, 'left'), 'left'): 0,\n",
       " (('forward', 'green', 'left', None, 'forward'), 'forward'): 0,\n",
       " (('left', 'red', 'left', 'forward', None), 'forward'): 0,\n",
       " (('right', 'green', 'left', None, None), 'right'): 0,\n",
       " (('left', 'red', 'left', None, None), 'forward'): 0,\n",
       " (('left', 'red', 'forward', None, 'forward'), 'left'): 0,\n",
       " (('right', 'green', 'forward', 'forward', 'left'), 'forward'): 0,\n",
       " (('left', 'green', None, 'forward', 'left'), 'right'): 0,\n",
       " (('forward', 'red', 'forward', 'forward', 'left'), 'right'): 0,\n",
       " (('forward', 'green', 'left', None, None), 'right'): 0,\n",
       " (('forward', 'red', 'forward', 'left', 'forward'), 'left'): 0,\n",
       " (('right', 'green', 'forward', 'left', None), 'forward'): 0,\n",
       " (('left', 'red', None, None, None), 'left'): 0,\n",
       " (('right', 'red', 'left', 'left', 'forward'), 'right'): 0,\n",
       " (('right', 'green', 'left', 'left', 'left'), 'left'): 0,\n",
       " (('left', 'red', 'forward', None, 'left'), 'right'): 0,\n",
       " (('forward', 'red', 'forward', 'forward', 'forward'), 'forward'): 0,\n",
       " (('forward', 'green', 'left', None, 'forward'), 'left'): 0,\n",
       " (('right', 'green', 'forward', None, 'forward'), 'right'): 0,\n",
       " (('forward', 'red', None, None, 'forward'), None): 0,\n",
       " (('forward', 'green', None, 'left', None), None): 0,\n",
       " (('left', 'red', None, None, None), 'forward'): 0,\n",
       " (('forward', 'red', 'left', 'forward', 'forward'), 'right'): 0,\n",
       " (('left', 'green', 'left', 'left', None), 'left'): 0,\n",
       " (('right', 'green', 'left', 'forward', 'forward'), 'forward'): 0,\n",
       " (('right', 'red', 'forward', None, 'left'), None): 0,\n",
       " (('right', 'red', None, 'left', 'left'), None): 0,\n",
       " (('forward', 'red', 'left', 'forward', 'forward'), None): 0,\n",
       " (('right', 'green', 'forward', 'left', 'left'), 'left'): 0,\n",
       " (('right', 'red', None, 'left', 'forward'), 'right'): 0,\n",
       " (('forward', 'green', 'left', 'forward', 'forward'), 'left'): 0,\n",
       " (('right', 'green', None, None, 'forward'), 'left'): 0,\n",
       " (('forward', 'green', None, 'forward', None), 'left'): 0,\n",
       " (('right', 'green', 'left', 'forward', None), 'right'): 0,\n",
       " (('forward', 'green', 'forward', 'left', 'forward'), 'forward'): 0,\n",
       " (('forward', 'red', None, 'forward', 'forward'), 'forward'): 0,\n",
       " (('left', 'red', None, 'left', 'forward'), None): 0,\n",
       " (('forward', 'green', None, 'forward', 'left'), 'forward'): 0,\n",
       " (('left', 'green', None, 'left', None), 'forward'): 0,\n",
       " (('right', 'green', 'forward', 'left', None), 'left'): 0,\n",
       " (('left', 'red', 'forward', None, 'forward'), 'forward'): 0,\n",
       " (('forward', 'green', 'forward', None, 'left'), None): 0,\n",
       " (('right', 'red', 'forward', 'forward', None), 'left'): 0,\n",
       " (('forward', 'green', 'forward', 'forward', 'left'), 'right'): 0,\n",
       " (('left', 'red', 'left', 'left', 'forward'), None): 0,\n",
       " (('right', 'red', None, None, None), 'forward'): 0,\n",
       " (('left', 'red', 'left', 'forward', 'forward'), None): 0,\n",
       " (('forward', 'red', 'forward', 'left', None), 'right'): 0,\n",
       " (('forward', 'red', None, 'forward', 'left'), 'right'): 0,\n",
       " (('forward', 'red', None, None, 'left'), 'left'): 0,\n",
       " (('forward', 'green', 'forward', 'forward', 'forward'), 'forward'): 0,\n",
       " (('forward', 'red', 'left', None, None), 'forward'): 0,\n",
       " (('left', 'red', 'forward', 'left', None), None): 0,\n",
       " (('left', 'red', 'left', 'left', None), 'left'): 0,\n",
       " (('forward', 'red', None, 'forward', 'left'), 'left'): 0,\n",
       " (('left', 'red', 'forward', 'left', None), 'right'): 0,\n",
       " (('left', 'red', 'forward', 'forward', 'left'), 'left'): 0,\n",
       " (('forward', 'green', 'left', 'forward', 'forward'), 'forward'): 0,\n",
       " (('left', 'red', 'forward', None, None), 'left'): 0,\n",
       " (('left', 'green', 'forward', 'forward', 'left'), 'forward'): 0,\n",
       " (('forward', 'green', 'forward', 'left', None), 'right'): 0,\n",
       " (('forward', 'red', None, 'left', 'forward'), 'left'): 0,\n",
       " (('forward', 'green', None, 'forward', 'forward'), 'right'): 0,\n",
       " (('right', 'green', None, 'left', 'left'), None): 0,\n",
       " (('right', 'green', 'left', 'left', None), 'forward'): 0,\n",
       " (('left', 'green', None, 'left', None), 'left'): 0,\n",
       " (('forward', 'red', 'forward', 'forward', 'forward'), 'right'): 0,\n",
       " (('left', 'green', 'forward', None, 'forward'), 'forward'): 0,\n",
       " (('left', 'green', None, 'forward', 'left'), 'forward'): 0,\n",
       " (('forward', 'green', 'left', None, 'left'), 'forward'): 0,\n",
       " (('left', 'red', 'left', 'left', 'forward'), 'left'): 0,\n",
       " (('right', 'green', None, 'forward', 'forward'), None): 0,\n",
       " (('forward', 'green', None, 'forward', 'forward'), 'forward'): 0,\n",
       " (('forward', 'red', 'left', None, 'left'), 'right'): 0,\n",
       " (('left', 'red', 'forward', 'left', 'forward'), 'right'): 0,\n",
       " (('right', 'red', 'forward', 'left', 'forward'), 'forward'): 0,\n",
       " (('right', 'red', None, 'left', None), None): 0,\n",
       " (('left', 'red', 'forward', 'forward', 'forward'), 'right'): 0,\n",
       " (('right', 'green', 'left', 'forward', 'left'), None): 0,\n",
       " (('right', 'green', 'forward', 'left', 'forward'), 'left'): 0,\n",
       " (('left', 'green', 'left', 'left', 'forward'), 'right'): 0,\n",
       " (('forward', 'green', 'left', 'left', 'left'), 'forward'): 0,\n",
       " (('forward', 'red', None, None, 'left'), 'forward'): 0,\n",
       " (('left', 'red', 'left', 'left', None), 'forward'): 0,\n",
       " (('forward', 'red', None, 'left', None), 'left'): 0,\n",
       " (('left', 'red', 'left', None, 'forward'), 'forward'): 0,\n",
       " (('right', 'green', 'forward', 'forward', None), 'forward'): 0,\n",
       " (('left', 'red', 'left', 'forward', 'left'), 'left'): 0,\n",
       " (('right', 'red', 'forward', None, None), None): 0,\n",
       " (('left', 'red', 'left', 'forward', 'forward'), 'forward'): 0,\n",
       " (('right', 'red', 'left', None, 'forward'), None): 0,\n",
       " (('forward', 'green', 'left', 'left', None), 'left'): 0,\n",
       " (('left', 'red', 'left', 'left', 'forward'), 'forward'): 0,\n",
       " (('right', 'red', None, 'forward', None), 'forward'): 0,\n",
       " (('left', 'green', 'forward', 'left', 'left'), 'left'): 0,\n",
       " (('forward', 'red', 'forward', 'forward', None), 'right'): 0,\n",
       " (('right', 'green', None, 'forward', 'left'), 'right'): 0,\n",
       " (('left', 'green', 'forward', 'forward', 'left'), None): 0,\n",
       " (('right', 'green', 'forward', 'forward', 'forward'), 'right'): 0,\n",
       " (('right', 'red', 'forward', None, 'forward'), 'right'): 0,\n",
       " (('forward', 'green', None, 'left', None), 'left'): 0,\n",
       " (('left', 'green', 'forward', 'left', 'left'), None): 0,\n",
       " (('right', 'red', 'forward', None, None), 'forward'): 0,\n",
       " (('right', 'green', None, 'forward', 'forward'), 'right'): 0,\n",
       " (('forward', 'green', None, 'left', 'left'), 'forward'): 0,\n",
       " (('left', 'green', 'forward', None, None), 'left'): 0,\n",
       " (('right', 'red', 'forward', None, 'forward'), 'forward'): 0,\n",
       " (('right', 'green', 'forward', None, None), 'left'): 0,\n",
       " (('right', 'red', None, None, None), None): 0,\n",
       " (('forward', 'red', None, 'left', 'forward'), None): 0,\n",
       " (('left', 'green', None, 'forward', None), 'right'): 0,\n",
       " (('forward', 'red', 'left', 'forward', 'left'), 'right'): 0,\n",
       " (('right', 'green', 'left', None, None), None): 0,\n",
       " (('left', 'green', 'left', 'left', None), None): 0,\n",
       " (('left', 'red', None, None, 'forward'), 'left'): 0,\n",
       " (('left', 'green', None, None, 'left'), 'right'): 0,\n",
       " (('right', 'red', 'forward', None, 'forward'), None): 0,\n",
       " (('forward', 'red', 'forward', 'forward', 'forward'), 'left'): 0,\n",
       " (('right', 'red', 'left', None, 'left'), 'left'): 0,\n",
       " (('left', 'green', 'left', 'left', None), 'right'): 0,\n",
       " (('left', 'green', None, None, None), 'right'): 0,\n",
       " (('left', 'green', 'forward', None, None), 'forward'): 0,\n",
       " (('forward', 'green', 'forward', 'left', 'forward'), None): 0,\n",
       " (('right', 'red', 'left', 'left', 'left'), None): 0,\n",
       " (('right', 'green', 'forward', 'forward', None), 'left'): 0,\n",
       " (('right', 'red', 'forward', 'forward', 'left'), 'forward'): 0,\n",
       " (('left', 'red', 'forward', None, 'left'), None): 0,\n",
       " (('forward', 'red', 'left', 'left', 'forward'), 'left'): 0,\n",
       " (('forward', 'green', 'forward', None, 'left'), 'left'): 0,\n",
       " (('left', 'red', None, 'forward', 'left'), 'left'): 0,\n",
       " (('left', 'red', None, None, 'left'), 'left'): 0,\n",
       " (('right', 'red', None, None, 'forward'), 'left'): 0,\n",
       " (('forward', 'green', None, None, None), 'right'): 0,\n",
       " (('forward', 'red', 'forward', None, 'forward'), 'left'): 0,\n",
       " (('left', 'green', 'forward', None, 'left'), 'right'): 0,\n",
       " (('forward', 'red', 'forward', None, 'left'), 'forward'): 0,\n",
       " (('left', 'green', 'forward', None, 'forward'), 'right'): 0,\n",
       " (('right', 'red', 'forward', 'left', 'forward'), 'right'): 0,\n",
       " (('forward', 'green', 'forward', None, None), 'right'): 0,\n",
       " (('right', 'green', 'forward', 'forward', 'forward'), 'left'): 0,\n",
       " (('right', 'red', 'left', 'forward', 'forward'), None): 0,\n",
       " (('left', 'green', None, 'left', 'left'), None): 0,\n",
       " (('right', 'red', 'left', None, None), 'right'): 0,\n",
       " (('left', 'green', 'left', 'forward', 'left'), 'forward'): 0,\n",
       " (('left', 'green', None, 'left', 'forward'), 'left'): 0,\n",
       " (('right', 'green', 'forward', 'left', 'left'), 'forward'): 0,\n",
       " (('left', 'red', 'left', 'left', 'left'), None): 0,\n",
       " (('right', 'green', 'left', 'forward', None), None): 0,\n",
       " (('right', 'green', None, 'forward', None), 'forward'): 0,\n",
       " (('left', 'green', None, 'forward', 'left'), None): 0,\n",
       " (('forward', 'red', 'left', 'forward', 'left'), None): 0,\n",
       " (('forward', 'red', 'left', 'left', 'left'), None): 0,\n",
       " (('forward', 'green', None, 'left', 'forward'), 'forward'): 0,\n",
       " (('left', 'red', 'forward', None, 'forward'), 'right'): 0,\n",
       " (('right', 'red', 'forward', None, 'left'), 'forward'): 0,\n",
       " (('left', 'green', None, 'left', 'left'), 'left'): 0,\n",
       " (('forward', 'green', None, None, 'forward'), 'forward'): 0,\n",
       " (('forward', 'green', None, None, 'forward'), 'left'): 0,\n",
       " (('left', 'green', 'forward', 'forward', None), 'forward'): 0,\n",
       " (('forward', 'green', 'forward', 'left', 'forward'), 'right'): 0,\n",
       " (('left', 'red', 'left', None, None), 'left'): 0,\n",
       " (('right', 'red', 'forward', 'forward', 'left'), 'right'): 0,\n",
       " (('forward', 'red', 'forward', 'left', 'forward'), None): 0,\n",
       " (('forward', 'red', 'forward', None, 'forward'), 'forward'): 0,\n",
       " (('left', 'red', 'left', None, 'left'), None): 0,\n",
       " (('right', 'red', None, None, None), 'left'): 0,\n",
       " (('right', 'red', 'left', 'left', 'left'), 'left'): 0,\n",
       " (('right', 'red', 'left', 'forward', 'forward'), 'forward'): 0,\n",
       " (('right', 'green', 'left', None, 'left'), None): 0,\n",
       " (('right', 'red', 'forward', 'left', 'left'), None): 0,\n",
       " (('forward', 'green', None, 'forward', 'left'), 'right'): 0,\n",
       " (('forward', 'green', None, None, 'left'), 'forward'): 0,\n",
       " (('forward', 'green', 'forward', None, 'forward'), 'left'): 0,\n",
       " (('left', 'green', 'left', 'forward', None), 'forward'): 0,\n",
       " (('left', 'green', 'left', None, None), 'left'): 0,\n",
       " (('forward', 'green', 'forward', 'left', 'left'), 'forward'): 0,\n",
       " (('right', 'red', 'forward', 'forward', None), 'right'): 0,\n",
       " (('right', 'red', None, 'forward', 'forward'), None): 0,\n",
       " (('forward', 'green', 'left', None, None), 'forward'): 0,\n",
       " (('right', 'red', 'left', 'left', 'left'), 'forward'): 0,\n",
       " (('forward', 'green', None, 'forward', None), None): 0,\n",
       " (('left', 'green', 'left', 'forward', None), None): 0,\n",
       " (('right', 'red', 'left', 'forward', 'forward'), 'right'): 0,\n",
       " (('left', 'red', 'forward', 'left', 'left'), 'forward'): 0,\n",
       " (('forward', 'green', 'forward', None, None), None): 0,\n",
       " (('left', 'red', 'left', 'left', None), 'right'): 0,\n",
       " (('left', 'green', None, 'left', 'forward'), 'right'): 0,\n",
       " (('left', 'red', 'left', 'forward', 'left'), None): 0,\n",
       " (('left', 'red', None, 'forward', None), 'left'): 0,\n",
       " (('left', 'green', 'left', None, 'left'), None): 0,\n",
       " (('left', 'green', None, 'left', 'left'), 'right'): 0}"
      ]
     },
     "execution_count": 38,
     "metadata": {},
     "output_type": "execute_result"
    }
   ],
   "source": [
    "q_table"
   ]
  },
  {
   "cell_type": "code",
   "execution_count": 45,
   "metadata": {
    "collapsed": false
   },
   "outputs": [],
   "source": [
    "alpha = .9; gamma = 0; epsilon = .2"
   ]
  },
  {
   "cell_type": "code",
   "execution_count": 46,
   "metadata": {
    "collapsed": true
   },
   "outputs": [],
   "source": [
    "import random"
   ]
  },
  {
   "cell_type": "code",
   "execution_count": 48,
   "metadata": {
    "collapsed": false
   },
   "outputs": [
    {
     "data": {
      "text/plain": [
       "0.5045628376722002"
      ]
     },
     "execution_count": 48,
     "metadata": {},
     "output_type": "execute_result"
    }
   ],
   "source": [
    "random.random()"
   ]
  },
  {
   "cell_type": "code",
   "execution_count": 49,
   "metadata": {
    "collapsed": false
   },
   "outputs": [
    {
     "ename": "SyntaxError",
     "evalue": "invalid syntax (<ipython-input-49-43709866b215>, line 1)",
     "output_type": "error",
     "traceback": [
      "\u001b[1;36m  File \u001b[1;32m\"<ipython-input-49-43709866b215>\"\u001b[1;36m, line \u001b[1;32m1\u001b[0m\n\u001b[1;33m    dt = ['action': qt[(state, action)] for action in actions]\u001b[0m\n\u001b[1;37m                  ^\u001b[0m\n\u001b[1;31mSyntaxError\u001b[0m\u001b[1;31m:\u001b[0m invalid syntax\n"
     ]
    }
   ],
   "source": [
    "dt = [qt[(state, action)] for action in actions]"
   ]
  },
  {
   "cell_type": "code",
   "execution_count": 51,
   "metadata": {
    "collapsed": true
   },
   "outputs": [],
   "source": [
    "ls = [0, 5, 0, 4]"
   ]
  },
  {
   "cell_type": "code",
   "execution_count": 52,
   "metadata": {
    "collapsed": false
   },
   "outputs": [
    {
     "data": {
      "text/plain": [
       "0"
      ]
     },
     "execution_count": 52,
     "metadata": {},
     "output_type": "execute_result"
    }
   ],
   "source": [
    "[i for i in min(ls)"
   ]
  },
  {
   "cell_type": "code",
   "execution_count": 53,
   "metadata": {
    "collapsed": true
   },
   "outputs": [],
   "source": [
    "import numpy as np"
   ]
  },
  {
   "cell_type": "code",
   "execution_count": 55,
   "metadata": {
    "collapsed": false
   },
   "outputs": [],
   "source": [
    "ls = np.array(ls)"
   ]
  },
  {
   "cell_type": "code",
   "execution_count": 62,
   "metadata": {
    "collapsed": false
   },
   "outputs": [],
   "source": [
    "store = list(np.where(ls == 0)[0])"
   ]
  },
  {
   "cell_type": "code",
   "execution_count": 74,
   "metadata": {
    "collapsed": false
   },
   "outputs": [
    {
     "data": {
      "text/plain": [
       "3"
      ]
     },
     "execution_count": 74,
     "metadata": {},
     "output_type": "execute_result"
    }
   ],
   "source": [
    "random.choice(store)"
   ]
  },
  {
   "cell_type": "code",
   "execution_count": 73,
   "metadata": {
    "collapsed": true
   },
   "outputs": [],
   "source": [
    "store = [3]"
   ]
  },
  {
   "cell_type": "code",
   "execution_count": 72,
   "metadata": {
    "collapsed": false
   },
   "outputs": [
    {
     "data": {
      "text/plain": [
       "[0, 2]"
      ]
     },
     "execution_count": 72,
     "metadata": {},
     "output_type": "execute_result"
    }
   ],
   "source": [
    "store"
   ]
  },
  {
   "cell_type": "code",
   "execution_count": null,
   "metadata": {
    "collapsed": true
   },
   "outputs": [],
   "source": []
  }
 ],
 "metadata": {
  "kernelspec": {
   "display_name": "Python 3",
   "language": "python",
   "name": "python3"
  },
  "language_info": {
   "codemirror_mode": {
    "name": "ipython",
    "version": 3
   },
   "file_extension": ".py",
   "mimetype": "text/x-python",
   "name": "python",
   "nbconvert_exporter": "python",
   "pygments_lexer": "ipython3",
   "version": "3.5.2"
  }
 },
 "nbformat": 4,
 "nbformat_minor": 0
}
