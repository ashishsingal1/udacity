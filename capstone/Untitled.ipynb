{
 "cells": [
  {
   "cell_type": "code",
   "execution_count": 174,
   "metadata": {
    "ExecuteTime": {
     "end_time": "2017-01-06T16:18:54.742164",
     "start_time": "2017-01-06T16:18:54.738164"
    },
    "collapsed": true
   },
   "outputs": [],
   "source": [
    "import Quandl\n",
    "from sklearn.ensemble import GradientBoostingRegressor\n",
    "from sklearn.linear_model import LinearRegression\n",
    "import pandas as pd"
   ]
  },
  {
   "cell_type": "code",
   "execution_count": 175,
   "metadata": {
    "ExecuteTime": {
     "end_time": "2017-01-06T16:18:55.348199",
     "start_time": "2017-01-06T16:18:55.345199"
    },
    "collapsed": true
   },
   "outputs": [],
   "source": [
    "def num_to_str(num): return str(num).replace('-', 'm')"
   ]
  },
  {
   "cell_type": "code",
   "execution_count": 176,
   "metadata": {
    "ExecuteTime": {
     "end_time": "2017-01-06T16:18:55.962234",
     "start_time": "2017-01-06T16:18:55.897231"
    },
    "collapsed": true
   },
   "outputs": [],
   "source": [
    "def get_data(ticker):\n",
    "    df = Quandl.get('WIKI/{}'.format(ticker))\n",
    "    df = df[['Adj. Close', 'Adj. Volume']]\n",
    "    df.rename(columns={'Adj. Close': 'price', 'Adj. Volume': 'volume'}, inplace=True)\n",
    "    return df\n",
    "\n",
    "def build_features(df):\n",
    "    for i in [-200, -20, -5, -1, 5, 20]: \n",
    "        df['price_'+num_to_str(i)] = df['price'].shift(-i)\n",
    "        if i < 0: df['price_ch_'+num_to_str(i)] = df['price'] / df['price_'+num_to_str(i)] - 1\n",
    "        else: df['price_ch_'+num_to_str(i)] = df['price_'+num_to_str(i)] / df['price'] - 1\n",
    "            \n",
    "    # features\n",
    "    df['price_rolling_mean_m200'] = df['price'].rolling(window=200).mean()\n",
    "    df['price_rolling_mean_m20'] = df['price'].rolling(window=20).mean()\n",
    "    df['price_m20_m200'] = df['price_rolling_mean_m20'] / df['price_rolling_mean_m200']\n",
    "\n",
    "    df['price_rolling_std_m200'] = df['price_ch_m1'].rolling(window=20).std()\n",
    "    df['price_rolling_std_m20'] = df['price_ch_m1'].rolling(window=5).std()\n",
    "    df['std_m20_m200'] = df['price_rolling_std_m20'] / df['price_rolling_std_m200']\n",
    "\n",
    "    df['volume_rolling_mean_m200'] = df['volume'].rolling(window=200).mean()\n",
    "    df['volume_rolling_mean_m20'] = df['volume'].rolling(window=20).mean()\n",
    "    df['vol_m20_m200'] = df['volume_rolling_mean_m20'] / df['volume_rolling_mean_m200']\n",
    "    \n",
    "    # labels\n",
    "    df['fwd_std_m20'] = df['price_rolling_std_m20'].shift(-20)\n",
    "    df['fwd_volume_m20'] = df['volume_rolling_mean_m20'].shift(-20)\n",
    "    \n",
    "    return df.dropna()\n",
    "\n",
    "def run_rolling(features, predict, model, df, rolling_period):\n",
    "    for y in range(df.index.min().year + rolling_period, df.index.max().year + 1): \n",
    "        df_train = df[(df.index.year >= y - rolling_period) & (df.index.year < y)]\n",
    "        df_test = df[df.index.year == y]\n",
    "        clf = model()\n",
    "        clf.fit(df_train[features], df_train[predict_field])\n",
    "        df_test['predicted'] = clf.predict(df_test[features])\n",
    "        df.ix[df_test.index, 'predicted'] = df_test.predicted\n",
    "    return df\n",
    "\n",
    "# simple\n",
    "# clf = GradientBoostingRegressor()\n",
    "# clf.fit(df[features], df[predict_field])\n",
    "# df['predicted'] = clf.predict(df[features])"
   ]
  },
  {
   "cell_type": "code",
   "execution_count": 177,
   "metadata": {
    "ExecuteTime": {
     "end_time": "2017-01-06T16:18:56.548268",
     "start_time": "2017-01-06T16:18:56.546268"
    },
    "collapsed": true
   },
   "outputs": [],
   "source": [
    "tickers = ['MSFT', 'AAPL']"
   ]
  },
  {
   "cell_type": "code",
   "execution_count": 178,
   "metadata": {
    "ExecuteTime": {
     "end_time": "2017-01-06T16:18:57.214306",
     "start_time": "2017-01-06T16:18:57.209306"
    },
    "collapsed": true
   },
   "outputs": [],
   "source": [
    "ticker = 'MSFT'\n",
    "predict_field = 'fwd_std_m20'\n",
    "benchmark_field = 'price_rolling_std_m20'\n",
    "features = ['price_m20_m200', 'std_m20_m200', 'vol_m20_m200', 'price_rolling_std_m20', 'volume_rolling_mean_m20']\n",
    "rolling_period = 10"
   ]
  },
  {
   "cell_type": "code",
   "execution_count": 179,
   "metadata": {
    "ExecuteTime": {
     "end_time": "2017-01-06T16:19:06.011809",
     "start_time": "2017-01-06T16:18:57.857343"
    },
    "collapsed": false
   },
   "outputs": [
    {
     "name": "stderr",
     "output_type": "stream",
     "text": [
      "C:\\Anaconda3\\lib\\site-packages\\ipykernel\\__main__.py:38: SettingWithCopyWarning: \n",
      "A value is trying to be set on a copy of a slice from a DataFrame.\n",
      "Try using .loc[row_indexer,col_indexer] = value instead\n",
      "\n",
      "See the caveats in the documentation: http://pandas.pydata.org/pandas-docs/stable/indexing.html#indexing-view-versus-copy\n"
     ]
    }
   ],
   "source": [
    "df = get_data(ticker)\n",
    "df =  build_features(df)\n",
    "df = run_rolling(features=features, predict=predict_field, model=GradientBoostingRegressor, df=df, \n",
    "                 rolling_period=rolling_period)"
   ]
  },
  {
   "cell_type": "code",
   "execution_count": 180,
   "metadata": {
    "ExecuteTime": {
     "end_time": "2017-01-06T16:19:12.744194",
     "start_time": "2017-01-06T16:19:12.737194"
    },
    "collapsed": false
   },
   "outputs": [
    {
     "data": {
      "text/plain": [
       "predicted                0.351193\n",
       "fwd_std_m20              1.000000\n",
       "price_rolling_std_m20    0.311950\n",
       "Name: fwd_std_m20, dtype: float64"
      ]
     },
     "execution_count": 180,
     "metadata": {},
     "output_type": "execute_result"
    }
   ],
   "source": [
    "df[['predicted', predict_field, benchmark_field]].corr()[predict_field]"
   ]
  },
  {
   "cell_type": "code",
   "execution_count": 185,
   "metadata": {
    "ExecuteTime": {
     "end_time": "2017-01-06T16:26:17.409484",
     "start_time": "2017-01-06T16:26:16.897454"
    },
    "collapsed": false
   },
   "outputs": [
    {
     "data": {
      "text/plain": [
       "<matplotlib.axes._subplots.AxesSubplot at 0xcb2ddd8>"
      ]
     },
     "execution_count": 185,
     "metadata": {},
     "output_type": "execute_result"
    },
    {
     "data": {
      "image/png": "[encoded data removed]",
      "text/plain": [
       "<matplotlib.figure.Figure at 0xcac3e10>"
      ]
     },
     "metadata": {},
     "output_type": "display_data"
    }
   ],
   "source": [
    "df[['price_rolling_std_m200', 'price_rolling_std_m20']].plot()"
   ]
  },
  {
   "cell_type": "code",
   "execution_count": 183,
   "metadata": {
    "ExecuteTime": {
     "end_time": "2017-01-06T16:25:48.776846",
     "start_time": "2017-01-06T16:25:48.753845"
    },
    "collapsed": true
   },
   "outputs": [],
   "source": [
    "%matplotlib inline"
   ]
  },
  {
   "cell_type": "code",
   "execution_count": null,
   "metadata": {
    "collapsed": true
   },
   "outputs": [],
   "source": []
  }
 ],
 "metadata": {
  "kernelspec": {
   "display_name": "Python 3",
   "language": "python",
   "name": "python3"
  },
  "language_info": {
   "codemirror_mode": {
    "name": "ipython",
    "version": 3
   },
   "file_extension": ".py",
   "mimetype": "text/x-python",
   "name": "python",
   "nbconvert_exporter": "python",
   "pygments_lexer": "ipython3",
   "version": "3.5.2"
  }
 },
 "nbformat": 4,
 "nbformat_minor": 0
}
