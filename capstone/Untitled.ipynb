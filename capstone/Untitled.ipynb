{
 "cells": [
  {
   "cell_type": "code",
   "execution_count": 28,
   "metadata": {
    "collapsed": true
   },
   "outputs": [],
   "source": [
    "import Quandl\n",
    "import pandas as pd"
   ]
  },
  {
   "cell_type": "code",
   "execution_count": 29,
   "metadata": {
    "collapsed": true
   },
   "outputs": [],
   "source": [
    "tickers = ['AAPL']"
   ]
  },
  {
   "cell_type": "code",
   "execution_count": 30,
   "metadata": {
    "collapsed": false
   },
   "outputs": [
    {
     "data": {
      "text/html": [
       "<div>\n",
       "<table border=\"1\" class=\"dataframe\">\n",
       "  <thead>\n",
       "    <tr style=\"text-align: right;\">\n",
       "      <th></th>\n",
       "      <th>Open</th>\n",
       "      <th>High</th>\n",
       "      <th>Low</th>\n",
       "      <th>Close</th>\n",
       "      <th>Volume</th>\n",
       "      <th>Ex-Dividend</th>\n",
       "      <th>Split Ratio</th>\n",
       "      <th>Adj. Open</th>\n",
       "      <th>Adj. High</th>\n",
       "      <th>Adj. Low</th>\n",
       "      <th>Adj. Close</th>\n",
       "      <th>Adj. Volume</th>\n",
       "    </tr>\n",
       "    <tr>\n",
       "      <th>Date</th>\n",
       "      <th></th>\n",
       "      <th></th>\n",
       "      <th></th>\n",
       "      <th></th>\n",
       "      <th></th>\n",
       "      <th></th>\n",
       "      <th></th>\n",
       "      <th></th>\n",
       "      <th></th>\n",
       "      <th></th>\n",
       "      <th></th>\n",
       "      <th></th>\n",
       "    </tr>\n",
       "  </thead>\n",
       "  <tbody>\n",
       "    <tr>\n",
       "      <th>2016-10-13</th>\n",
       "      <td>116.79</td>\n",
       "      <td>117.44</td>\n",
       "      <td>115.72</td>\n",
       "      <td>116.98</td>\n",
       "      <td>35014934.0</td>\n",
       "      <td>0.0</td>\n",
       "      <td>1.0</td>\n",
       "      <td>116.79</td>\n",
       "      <td>117.44</td>\n",
       "      <td>115.72</td>\n",
       "      <td>116.98</td>\n",
       "      <td>35014934.0</td>\n",
       "    </tr>\n",
       "    <tr>\n",
       "      <th>2016-10-14</th>\n",
       "      <td>117.88</td>\n",
       "      <td>118.17</td>\n",
       "      <td>117.13</td>\n",
       "      <td>117.66</td>\n",
       "      <td>35378862.0</td>\n",
       "      <td>0.0</td>\n",
       "      <td>1.0</td>\n",
       "      <td>117.88</td>\n",
       "      <td>118.17</td>\n",
       "      <td>117.13</td>\n",
       "      <td>117.66</td>\n",
       "      <td>35378862.0</td>\n",
       "    </tr>\n",
       "    <tr>\n",
       "      <th>2016-10-17</th>\n",
       "      <td>117.33</td>\n",
       "      <td>117.84</td>\n",
       "      <td>116.78</td>\n",
       "      <td>117.55</td>\n",
       "      <td>23338304.0</td>\n",
       "      <td>0.0</td>\n",
       "      <td>1.0</td>\n",
       "      <td>117.33</td>\n",
       "      <td>117.84</td>\n",
       "      <td>116.78</td>\n",
       "      <td>117.55</td>\n",
       "      <td>23338304.0</td>\n",
       "    </tr>\n",
       "    <tr>\n",
       "      <th>2016-10-18</th>\n",
       "      <td>118.18</td>\n",
       "      <td>118.21</td>\n",
       "      <td>117.45</td>\n",
       "      <td>117.47</td>\n",
       "      <td>23681539.0</td>\n",
       "      <td>0.0</td>\n",
       "      <td>1.0</td>\n",
       "      <td>118.18</td>\n",
       "      <td>118.21</td>\n",
       "      <td>117.45</td>\n",
       "      <td>117.47</td>\n",
       "      <td>23681539.0</td>\n",
       "    </tr>\n",
       "    <tr>\n",
       "      <th>2016-10-19</th>\n",
       "      <td>117.25</td>\n",
       "      <td>117.76</td>\n",
       "      <td>113.80</td>\n",
       "      <td>117.12</td>\n",
       "      <td>19688877.0</td>\n",
       "      <td>0.0</td>\n",
       "      <td>1.0</td>\n",
       "      <td>117.25</td>\n",
       "      <td>117.76</td>\n",
       "      <td>113.80</td>\n",
       "      <td>117.12</td>\n",
       "      <td>19688877.0</td>\n",
       "    </tr>\n",
       "  </tbody>\n",
       "</table>\n",
       "</div>"
      ],
      "text/plain": [
       "              Open    High     Low   Close      Volume  Ex-Dividend  \\\n",
       "Date                                                                  \n",
       "2016-10-13  116.79  117.44  115.72  116.98  35014934.0          0.0   \n",
       "2016-10-14  117.88  118.17  117.13  117.66  35378862.0          0.0   \n",
       "2016-10-17  117.33  117.84  116.78  117.55  23338304.0          0.0   \n",
       "2016-10-18  118.18  118.21  117.45  117.47  23681539.0          0.0   \n",
       "2016-10-19  117.25  117.76  113.80  117.12  19688877.0          0.0   \n",
       "\n",
       "            Split Ratio  Adj. Open  Adj. High  Adj. Low  Adj. Close  \\\n",
       "Date                                                                  \n",
       "2016-10-13          1.0     116.79     117.44    115.72      116.98   \n",
       "2016-10-14          1.0     117.88     118.17    117.13      117.66   \n",
       "2016-10-17          1.0     117.33     117.84    116.78      117.55   \n",
       "2016-10-18          1.0     118.18     118.21    117.45      117.47   \n",
       "2016-10-19          1.0     117.25     117.76    113.80      117.12   \n",
       "\n",
       "            Adj. Volume  \n",
       "Date                     \n",
       "2016-10-13   35014934.0  \n",
       "2016-10-14   35378862.0  \n",
       "2016-10-17   23338304.0  \n",
       "2016-10-18   23681539.0  \n",
       "2016-10-19   19688877.0  "
      ]
     },
     "execution_count": 30,
     "metadata": {},
     "output_type": "execute_result"
    }
   ],
   "source": [
    "data = Quandl.get('WIKI/AAPL')\n",
    "data.tail()"
   ]
  },
  {
   "cell_type": "code",
   "execution_count": 31,
   "metadata": {
    "collapsed": true
   },
   "outputs": [],
   "source": [
    "data = data[['Adj. Close', 'Adj. Volume']]"
   ]
  },
  {
   "cell_type": "code",
   "execution_count": 32,
   "metadata": {
    "collapsed": false
   },
   "outputs": [],
   "source": [
    "data.rename(columns={'Adj. Close': 'price', 'Adj. Volume': 'vol'}, inplace=True)"
   ]
  },
  {
   "cell_type": "code",
   "execution_count": 33,
   "metadata": {
    "collapsed": false
   },
   "outputs": [],
   "source": [
    "data['rolling_50d_mean'] = data['price'].rolling(window=50).mean()"
   ]
  },
  {
   "cell_type": "code",
   "execution_count": 34,
   "metadata": {
    "collapsed": false
   },
   "outputs": [],
   "source": [
    "data['price_m50d'] = data['price'].shift(50)"
   ]
  },
  {
   "cell_type": "code",
   "execution_count": 37,
   "metadata": {
    "collapsed": false
   },
   "outputs": [],
   "source": [
    "data['price_ch_50d'] = data['price'] / data['price_m50d'] - 1"
   ]
  },
  {
   "cell_type": "code",
   "execution_count": 43,
   "metadata": {
    "collapsed": false
   },
   "outputs": [
    {
     "data": {
      "text/plain": [
       "'34'"
      ]
     },
     "execution_count": 43,
     "metadata": {},
     "output_type": "execute_result"
    }
   ],
   "source": [
    "num_to_str(34)"
   ]
  },
  {
   "cell_type": "code",
   "execution_count": 41,
   "metadata": {
    "collapsed": true
   },
   "outputs": [],
   "source": [
    "def num_to_str(num): return str(num).replace('-', 'm')"
   ]
  },
  {
   "cell_type": "code",
   "execution_count": 47,
   "metadata": {
    "collapsed": false
   },
   "outputs": [],
   "source": [
    "for i in [-200, -20, -5, -1, 5, 20]: \n",
    "    data['price_'+num_to_str(i)] = data['price'].shift(-i)\n",
    "    if i < 0: data['price_ch_'+num_to_str(i)] = data['price'] / data['price_'+num_to_str(i)] - 1\n",
    "    else: data['price_ch_'+num_to_str(i)] = data['price_'+num_to_str(i)] / data['price'] - 1"
   ]
  },
  {
   "cell_type": "code",
   "execution_count": 44,
   "metadata": {
    "collapsed": true
   },
   "outputs": [],
   "source": [
    "data['price_rolling_max_m200'] = data['price'].rolling(window=200).max()\n",
    "data['price_rolling_min_m200'] = data['price'].rolling(window=200).min()\n",
    "data['price_rolling_mean_m200'] = data['price'].rolling(window=200).mean()\n",
    "data['price_rolling_mean_m20'] = data['price'].rolling(window=20).mean()\n",
    "data['price_rolling_std_m20'] = data['price_ch_m1'].rolling(window=20).std()\n",
    "data['price_rolling_std_m5'] = data['price_ch_m1'].rolling(window=5).std()"
   ]
  },
  {
   "cell_type": "code",
   "execution_count": 48,
   "metadata": {
    "collapsed": false
   },
   "outputs": [],
   "source": [
    "# data"
   ]
  },
  {
   "cell_type": "code",
   "execution_count": 40,
   "metadata": {
    "collapsed": false
   },
   "outputs": [],
   "source": [
    "# prices\n",
    "perc_ch = [-200, -20, -5, 5, 20]\n",
    "rolling_max_price = [-200]\n",
    "rolling_min_price = [-200]\n",
    "rolling_mean = [-200, -20]\n",
    "\n",
    "# predict\n",
    "volatility = [5, 20]\n",
    "perc_ch = [5,20]\n",
    "volume = [5, 20]"
   ]
  },
  {
   "cell_type": "code",
   "execution_count": 5,
   "metadata": {
    "collapsed": false
   },
   "outputs": [],
   "source": [
    "# data\n",
    "# what features do we want?\n",
    "# 1. perc ch last month\n",
    "# 2. perc ch last 10 mo\n",
    "# 3. distance from 52wk high\n",
    "# 4. distance from 52wk low\n",
    "# 5. distance from 50d MA\n",
    "# what answers do we want\n",
    "# 1. historical vol last 10 mo\n",
    "# 2. historical vol last 1 mo\n",
    "# 3. historical vol last wk\n",
    "# 4. std last 10 mo / 1 mo / wk"
   ]
  },
  {
   "cell_type": "code",
   "execution_count": null,
   "metadata": {
    "collapsed": true
   },
   "outputs": [],
   "source": [
    "import datetime\n",
    "\n",
    "# enter tickers: aapl, \n",
    "# how to split? \n",
    "# 1. use yrs x to y\n",
    "# 2. randomized\n",
    "# choose ml method\n"
   ]
  }
 ],
 "metadata": {
  "kernelspec": {
   "display_name": "Python 3",
   "language": "python",
   "name": "python3"
  },
  "language_info": {
   "codemirror_mode": {
    "name": "ipython",
    "version": 3
   },
   "file_extension": ".py",
   "mimetype": "text/x-python",
   "name": "python",
   "nbconvert_exporter": "python",
   "pygments_lexer": "ipython3",
   "version": "3.5.2"
  }
 },
 "nbformat": 4,
 "nbformat_minor": 0
}
