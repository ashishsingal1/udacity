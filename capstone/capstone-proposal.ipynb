{
 "cells": [
  {
   "cell_type": "markdown",
   "metadata": {},
   "source": [
    "<h1>Capstone Proposal: Investment and Trading</h1>\n",
    "\n",
    "<h3>Domain Background</h3>\n",
    "\n",
    "This project is from the investment and trading field. Since securities were traded, people have being attempting to predict prices. There are reams of academic papers using statistics and other techniques to predict stock prices. A few of them, specifically pertaining to machine learning, are listed below:\n",
    "\n",
    " - https://papers.ssrn.com/sol3/papers.cfm?abstract_id=893141\n",
    " - https://papers.ssrn.com/sol3/papers.cfm?abstract_id=2416494\n",
    " - https://papers.ssrn.com/sol3/papers.cfm?abstract_id=893141\n",
    " \n",
    "I'm particularly interested in this area because it overlaps with my professional career in financial services and as a Quantitative Researcher and Developer.\n",
    "\n",
    "<h3>Problem Statement</h3>\n",
    "\n",
    "We want to predict securities prices in the future using historical data. However, we will go beyond just prices and try to also predict volume and volatility. The reason is that prices are notoriously difficult to predict because most simple predictions have been arbitraged away. Additionally, the ability to predict volume could give a sense of how much market impact  there is value in also understanding likely volume and volatility numbers.\n",
    "\n",
    "To summarize, we want to predict the following for a particular security:\n",
    "\n",
    " - Price: on a one week and one month time horizon.\n",
    " - Volume: on a one week and one month time horizon.\n",
    " - Volatility: on a one week and one month time horizon.\n",
    "\n",
    "<h3>Datasets and Inputs</h3>\n",
    "\n",
    "We will use public data from either Quandl or Yahoo. We will need to get market cap numbers as well as open, high, low, close and volume because market cap will give us information about turnover (volume / market cap).\n",
    "\n",
    " - Quandl: Available publicly and for free. Has an API that can be accessed through Python.\n",
    " - Yahoo: Also available publically and for free. There are wrappers that can access the API using Python.\n",
    "\n",
    "<h3>Solution Statement</h3>\n",
    "\n",
    "The solution will be a web application that takes in a set of ticker symbols as well as metrics (price / volume / volatility) to make predictions on. The output will be the predictions after running the models.\n",
    "\n",
    "<h3>Benchmark Model</h3>\n",
    "\n",
    "Because of the theory of efficient markets and the difficulty of predicting prices, the benchmark model will simply be whether our model can do better than a naive model that extrapolates the most recent price / volume / volatility measures.\n",
    "\n",
    "<h3>Evaluation Metrics</h3>\n",
    "\n",
    "We will use ROC scores as well as a profitability metric (one where we take hypothetical trades based on the predictions of the model).\n",
    "\n",
    "<h3>Project Design</h3>\n",
    "\n",
    "1) Gather data. The first step will involve connecting to the services to gather some experimental data. During this process, it will become more evident what data is available and for what periods. We would want data for many tickers and for at least five years of history.\n",
    "\n",
    "2) Build specs for user interface. Next, we'll want to figure out what the app should look like. We will take the problem defined earlier in this proposal and map out a user interface that can answer these questions.\n",
    "\n",
    "3) Experiment with core. The core analysis framework will involve a lot of trial and error. We will try several machine learning alogrithms -- linear regression, k-nn, and some sort of boosting -- to obtain results. We will process and validate the data for inclusion into the model. We will set aside the most recent year as our out of sample set. For the rest of the data, we will use it to train and test our alogrithms and tune parameters.\n",
    "\n",
    "4) Connect the back and front. Once the core engine is built, we'll need to connect the core to the front end.\n",
    "\n",
    "\n"
   ]
  },
  {
   "cell_type": "code",
   "execution_count": null,
   "metadata": {
    "collapsed": true
   },
   "outputs": [],
   "source": []
  }
 ],
 "metadata": {
  "kernelspec": {
   "display_name": "Python 3",
   "language": "python",
   "name": "python3"
  },
  "language_info": {
   "codemirror_mode": {
    "name": "ipython",
    "version": 3
   },
   "file_extension": ".py",
   "mimetype": "text/x-python",
   "name": "python",
   "nbconvert_exporter": "python",
   "pygments_lexer": "ipython3",
   "version": "3.5.2"
  }
 },
 "nbformat": 4,
 "nbformat_minor": 0
}
